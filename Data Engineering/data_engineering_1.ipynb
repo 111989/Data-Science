{
 "cells": [
  {
   "cell_type": "markdown",
   "metadata": {},
   "source": [
    "Credit: Yi Yang\n",
    "    "
   ]
  },
  {
   "cell_type": "code",
   "execution_count": 1,
   "metadata": {},
   "outputs": [],
   "source": [
    "import sqlite3, csv\n"
   ]
  },
  {
   "cell_type": "code",
   "execution_count": 2,
   "metadata": {},
   "outputs": [],
   "source": [
    "# create a connection object that represents the db\n",
    "connection = sqlite3.connect(database = 'air.db')\n"
   ]
  },
  {
   "cell_type": "code",
   "execution_count": 3,
   "metadata": {},
   "outputs": [],
   "source": [
    "# create a cursor object for db traversal\n",
    "cursor = connection.cursor()\n"
   ]
  },
  {
   "cell_type": "code",
   "execution_count": 4,
   "metadata": {},
   "outputs": [
    {
     "data": {
      "text/plain": [
       "<sqlite3.Cursor at 0x1cffd669880>"
      ]
     },
     "execution_count": 4,
     "metadata": {},
     "output_type": "execute_result"
    }
   ],
   "source": [
    "# read csv files and parse them\n",
    "with open(file = 'flights.csv', mode = 'r') as flights_table:\n",
    "    dict_reader = csv.DictReader(f = flights_table, delimiter = ',')\n",
    "    flights_database = [(i['YEAR'], i['MONTH'], i['DAY_OF_MONTH'], \\\n",
    "                         i['DAY_OF_WEEK'], i['OP_UNIQUE_CARRIER'], \\\n",
    "                         i['TAIL_NUM'], i['OP_CARRIER_FL_NUM'], \\\n",
    "                         i['ORIGIN_AIRPORT_ID'], i['DEST_AIRPORT_ID'], \\\n",
    "                         i['CRS_DEP_TIME'], i['DEP_TIME'], i['DEP_DELAY'], \\\n",
    "                         i['CRS_ARR_TIME'], i['ARR_TIME'], i['ARR_DELAY'], \\\n",
    "                         i['CANCELLED'], i['CANCELLATION_CODE'], \\\n",
    "                         i['CRS_ELAPSED_TIME'], i['ACTUAL_ELAPSED_TIME'], \\\n",
    "                         i['AIR_TIME'], i['DISTANCE'], i['CARRIER_DELAY'], \\\n",
    "                         i['WEATHER_DELAY'], i['NAS_DELAY'], \\\n",
    "                         i['SECURITY_DELAY'], i['LATE_AIRCRAFT_DELAY']) \\\n",
    "                        for i in dict_reader]\n",
    "    \n",
    "cursor.execute('DROP TABLE IF EXISTS flights;')\n",
    "\n",
    "cursor.execute('CREATE TABLE flights (YEAR number, MONTH number, \\\n",
    "DAY_OF_MONTH number, DAY_OF_WEEK number, OP_UNIQUE_CARRIER number, \\\n",
    "TAIL_NUM number, OP_CARRIER_FL_NUM number, ORIGIN_AIRPORT_ID number, \\\n",
    "DEST_AIRPORT_ID number, CRS_DEP_TIME number, DEP_TIME number, \\\n",
    "DEP_DELAY number, CRS_ARR_TIME number, ARR_TIME number, ARR_DELAY number, \\\n",
    "CANCELLED number, CANCELLATION_CODE number, CRS_ELAPSED_TIME number, \\\n",
    "ACTUAL_ELAPSED_TIME number, AIR_TIME number, DISTANCE number, \\\n",
    "CARRIER_DELAY number, WEATHER_DELAY number, NAS_DELAY number, \\\n",
    "SECURITY_DELAY number, LATE_AIRCRAFT_DELAY number);')\n",
    "\n",
    "cursor.executemany('INSERT INTO flights VALUES(?,?,?,?,?,?,?,?,?,?,?,?,?,?,?,?,?,?,?,?,?,?,?,?,?,?);', \\\n",
    "                   flights_database)\n",
    "\n",
    "\n",
    "\n",
    "\n",
    "with open(file = 'airlines.csv', mode = 'r') as airlines_table:\n",
    "    dict_reader = csv.DictReader(f = airlines_table, delimiter = ',')\n",
    "    airlines_database = [(i['OP_UNIQUE_CARRIER'], i['FULL_OP_UNIQUE_CARRIER']) \\\n",
    "                         for i in dict_reader]\n",
    "\n",
    "cursor.execute('DROP TABLE IF EXISTS airlines;')\n",
    "\n",
    "cursor.execute('CREATE TABLE airlines (OP_UNIQUE_CARRIER text, \\\n",
    "FULL_OP_UNIQUE_CARRIER text);')\n",
    "\n",
    "cursor.executemany('INSERT INTO airlines VALUES(?,?);', airlines_database)\n",
    "\n",
    "\n",
    "\n",
    "\n",
    "with open(file = 'airports.csv', mode = 'r') as airports_table:\n",
    "    dict_reader = csv.DictReader(f = airports_table, delimiter = ',')\n",
    "    airports_database = [(i['AIRPORT_ID'], i['FULL_AIRPORT_ID']) \\\n",
    "                         for i in dict_reader]\n",
    "\n",
    "cursor.execute('DROP TABLE IF EXISTS airports;')\n",
    "\n",
    "cursor.execute('CREATE TABLE airports (AIRPORT_ID number, \\\n",
    "FULL_AIRPORT_ID text);')\n",
    "\n",
    "cursor.executemany('INSERT INTO airports VALUES(?,?);', airports_database)\n",
    "\n",
    "\n",
    "\n",
    "\n",
    "with open(file = 'cancellations.csv', mode = 'r') as cancellations_table:\n",
    "    dict_reader = csv.DictReader(f = cancellations_table, delimiter = ',')\n",
    "    cancellations_database = [(i['CODE'], i['CODE_DESCRIPTION']) \\\n",
    "                              for i in dict_reader]\n",
    "\n",
    "cursor.execute('DROP TABLE IF EXISTS cancellations;')\n",
    "\n",
    "cursor.execute('CREATE TABLE cancellations (CODE text, \\\n",
    "CODE_DESCRIPTION text);')\n",
    "\n",
    "cursor.executemany('INSERT INTO cancellations VALUES(?,?);', \\\n",
    "                   cancellations_database)\n"
   ]
  },
  {
   "cell_type": "code",
   "execution_count": 5,
   "metadata": {},
   "outputs": [],
   "source": [
    "\"\"\"Select the longest flights to each unique destination and order it in \\\n",
    "decreasing order of distance. Select the ORIGINAL_AIRPORT_ID, DEST_AIRPORT_ID, \\\n",
    "and MAX DISTANCE. After ordering by decreasing distance, order by increasing \\\n",
    "origin id, and then by increasing destination id\"\"\"\n",
    "\n",
    "results = cursor.execute(\"SELECT ORIGIN_AIRPORT_ID, DEST_AIRPORT_ID, \\\n",
    "MAX(DISTANCE) FROM flights GROUP BY DEST_AIRPORT_ID ORDER BY MAX(DISTANCE) \\\n",
    "DESC, ORIGIN_AIRPORT_ID ASC, DEST_AIRPORT_ID ASC;\")\n",
    "\n",
    "    \n",
    "    \n",
    "\n",
    "\"\"\"Select the destinations that have less than 10 arrivals. Select the \\\n",
    "DEST_AIRPORT_ID (Hint: You will need to group the destinations.)\"\"\"\n",
    "\n",
    "results = cursor.execute(\"SELECT DEST_AIRPORT_ID FROM flights GROUP BY \\\n",
    "DEST_AIRPORT_ID HAVING COUNT(DEST_AIRPORT_ID) < 10;\")\n",
    "\n",
    "    \n",
    "    \n",
    "    \n",
    "\"\"\"Select all of the distinct DAY_OF_MONTH and order them in ascending order.\"\"\"\n",
    "\n",
    "results = cursor.execute(\"SELECT DISTINCT DAY_OF_MONTH FROM flights ORDER BY \\\n",
    "DAY_OF_MONTH ASC;\")\n"
   ]
  },
  {
   "cell_type": "code",
   "execution_count": 6,
   "metadata": {},
   "outputs": [],
   "source": [
    "# for sample in results:\n",
    "#     print(sample)\n"
   ]
  },
  {
   "cell_type": "code",
   "execution_count": 7,
   "metadata": {},
   "outputs": [
    {
     "data": {
      "text/plain": [
       "<sqlite3.Cursor at 0x1cffd669880>"
      ]
     },
     "execution_count": 7,
     "metadata": {},
     "output_type": "execute_result"
    }
   ],
   "source": [
    "cursor.execute(\"DELETE FROM flights WHERE YEAR='2020';\")\n",
    "\n",
    "cursor.execute(\"INSERT INTO flights VALUES(?,?,?,?,?,?,?,?,?,?,?,?,?,?,?,?,?,?,?,?,?,?,?,?,?,?);\", \\\n",
    "               (2020,1,1,6,'','','','','','','','','','','','','','','','','','','','','',''))\n",
    "cursor.execute(\"INSERT INTO flights VALUES(?,?,?,?,?,?,?,?,?,?,?,?,?,?,?,?,?,?,?,?,?,?,?,?,?,?);\", \\\n",
    "               (2020,1,1,6,'','','','','','','','','','','','','','','','','','','','','',''))\n",
    "cursor.execute(\"INSERT INTO flights VALUES(?,?,?,?,?,?,?,?,?,?,?,?,?,?,?,?,?,?,?,?,?,?,?,?,?,?);\", \\\n",
    "               (2020,1,2,7,'','','','','','','','','','','','','','','','','','','','','',''))\n",
    "cursor.execute(\"INSERT INTO flights VALUES(?,?,?,?,?,?,?,?,?,?,?,?,?,?,?,?,?,?,?,?,?,?,?,?,?,?);\", \\\n",
    "               (2020,1,1,6,'','','','','','','','','','','','','','','','','','','','','',''))\n",
    "cursor.execute(\"INSERT INTO flights VALUES(?,?,?,?,?,?,?,?,?,?,?,?,?,?,?,?,?,?,?,?,?,?,?,?,?,?);\", \\\n",
    "               (2020,1,2,7,'','','','','','','','','','','','','','','','','','','','','',''))\n",
    "cursor.execute(\"INSERT INTO flights VALUES(?,?,?,?,?,?,?,?,?,?,?,?,?,?,?,?,?,?,?,?,?,?,?,?,?,?);\", \\\n",
    "               (2020,1,2,7,'TP','','','','','','','','','','','','','','','','','','','','',''))\n"
   ]
  },
  {
   "cell_type": "code",
   "execution_count": 8,
   "metadata": {},
   "outputs": [
    {
     "name": "stdout",
     "output_type": "stream",
     "text": [
      "(2020, 1, 1, 6, '', '', '', '', '', '', '', '', '', '', '', '', '', '', '', '', '', '', '', '', '', '')\n",
      "(2020, 1, 1, 6, '', '', '', '', '', '', '', '', '', '', '', '', '', '', '', '', '', '', '', '', '', '')\n",
      "(2020, 1, 2, 7, '', '', '', '', '', '', '', '', '', '', '', '', '', '', '', '', '', '', '', '', '', '')\n",
      "(2020, 1, 1, 6, '', '', '', '', '', '', '', '', '', '', '', '', '', '', '', '', '', '', '', '', '', '')\n",
      "(2020, 1, 2, 7, '', '', '', '', '', '', '', '', '', '', '', '', '', '', '', '', '', '', '', '', '', '')\n",
      "(2020, 1, 2, 7, 'TP', '', '', '', '', '', '', '', '', '', '', '', '', '', '', '', '', '', '', '', '', '')\n"
     ]
    }
   ],
   "source": [
    "results = cursor.execute(\"SELECT * FROM flights WHERE YEAR = '2020';\").fetchall() \n",
    "for sample in results:\n",
    "    print(sample)\n"
   ]
  },
  {
   "cell_type": "code",
   "execution_count": 9,
   "metadata": {},
   "outputs": [
    {
     "data": {
      "text/plain": [
       "<sqlite3.Cursor at 0x1cffd669880>"
      ]
     },
     "execution_count": 9,
     "metadata": {},
     "output_type": "execute_result"
    }
   ],
   "source": [
    "cursor.execute(\"DELETE FROM flights WHERE YEAR = '2020';\")\n",
    "\n",
    "cursor.execute(\"INSERT INTO flights VALUES(?,?,?,?,?,?,?,?,?,?,?,?,?,?,?,?,?,?,?,?,?,?,?,?,?,?);\", \\\n",
    "               (2020,1,1,6,'','','','','','','','','','','','','','','','','','','','','',''))\n",
    "cursor.execute(\"INSERT INTO flights VALUES(?,?,?,?,?,?,?,?,?,?,?,?,?,?,?,?,?,?,?,?,?,?,?,?,?,?);\", \\\n",
    "               (2020,1,2,7,'','','','','','','','','','','','','','','','','','','','','',''))\n",
    "cursor.execute(\"INSERT INTO flights VALUES(?,?,?,?,?,?,?,?,?,?,?,?,?,?,?,?,?,?,?,?,?,?,?,?,?,?);\", \\\n",
    "               (2020,1,2,7,'TP','','','','','','','','','','','','','','','','','','','','',''))\n"
   ]
  },
  {
   "cell_type": "code",
   "execution_count": 10,
   "metadata": {},
   "outputs": [],
   "source": [
    "\"\"\"Update the OP_UNIQUE_CARRIER of the table flights to be 'CS' for YEAR = \\\n",
    "2020. The print all flights where YEAR = 2020 (make sure commit() is used)\"\"\"\n",
    "\n",
    "cursor.execute(\"UPDATE flights SET OP_UNIQUE_CARRIER = 'CS' WHERE YEAR = \\\n",
    "'2020';\")\n",
    "results = cursor.execute(\"SELECT * FROM flights WHERE YEAR = '2020';\").fetchall()\n",
    "\n",
    "\n",
    "    \n",
    "\"\"\"Delete the flight that has the OP_UNIQUE_CARRIER of 'CS'. Then print all \\\n",
    "flights where YEAR = 2020\"\"\"\n",
    "\n",
    "cursor.execute(\"DELETE FROM flights WHERE OP_UNIQUE_CARRIER = 'CS';\")\n",
    "results = cursor.execute(\"SELECT * FROM flights WHERE YEAR = '2020';\").fetchall()\n",
    "\n",
    "\n",
    "\n",
    "\"\"\"Select the OP_CARRIER_FL_NUM, ORIGIN_AIRPORT_ID, airports.FULL_AIRPORT_ID, \\\n",
    "and DISTANCE of flights that have trips with more than 4000 miles, tables = \\\n",
    "flights + airports, columns to join = ORIGIN_AIRPORT_ID, AIRPORT_ID, columns \\\n",
    "to match = DISTANCE. Use an INNER JOIN. To only get the unique names, use the \\\n",
    "keyword DISTINCT (i.e., SELECT DISTINCT name.)\"\"\"\n",
    "\n",
    "results = cursor.execute(\"SELECT DISTINCT flights.OP_CARRIER_FL_NUM, \\\n",
    "flights.ORIGIN_AIRPORT_ID, airports.FULL_AIRPORT_ID, flights.DISTANCE FROM \\\n",
    "(flights INNER JOIN airports ON flights.ORIGIN_AIRPORT_ID = \\\n",
    "airports.AIRPORT_ID) WHERE flights.DISTANCE > 4000 ORDER BY \\\n",
    "flights.ORIGIN_AIRPORT_ID ASC;\").fetchall()\n",
    "\n",
    "\n",
    "\n",
    "\"\"\"Select all DISTINCT airport names (FULL_AIRPORT_ID) from the database \\\n",
    "where the airline \"Delta Air Lines Inc.\" has as an Origin Airport \\\n",
    "(ORIGIN_AIRPORT_ID).\"\"\"\n",
    "\n",
    "results = cursor.execute(\"SELECT DISTINCT airports.FULL_AIRPORT_ID FROM \\\n",
    "(airports INNER JOIN flights ON airports.AIRPORT_ID = \\\n",
    "flights.ORIGIN_AIRPORT_ID) WHERE flights.OP_UNIQUE_CARRIER='DL';\").fetchall()\n",
    "\n",
    "\n",
    "\n",
    "\"\"\"Select all DISTINCT carrier names (FULL_OP_UNIQUE_CARRIER) from the \\\n",
    "database, where flights in originating from \"New York, NY: LaGuardia\" were \\\n",
    "cancelled due to \"Weather\".\"\"\"\n",
    "\n",
    "results = cursor.execute(\"SELECT DISTINCT airlines.FULL_OP_UNIQUE_CARRIER \\\n",
    "FROM (((airlines INNER JOIN flights ON airlines.OP_UNIQUE_CARRIER = \\\n",
    "flights.OP_UNIQUE_CARRIER) INNER JOIN airports ON flights.ORIGIN_AIRPORT_ID = \\\n",
    "airports.AIRPORT_ID) INNER JOIN cancellations ON flights.CANCELLATION_CODE = \\\n",
    "cancellations.CODE) WHERE airports.FULL_AIRPORT_ID = 'New York, NY: LaGuardia' \\\n",
    "AND cancellations.CODE_DESCRIPTION = 'Weather';\").fetchall()\n",
    "\n",
    "\n",
    "\n",
    "\"\"\"Drop the airlines table from the database. Print the names of all the \\\n",
    "remaining tables in the database\"\"\"\n",
    "\n",
    "cursor.execute(\"DROP TABLE IF EXISTS airlines;\")\n",
    "results = cursor.execute(\"SELECT name FROM sqlite_master WHERE type = 'table';\").fetchall()\n"
   ]
  },
  {
   "cell_type": "code",
   "execution_count": 11,
   "metadata": {},
   "outputs": [
    {
     "name": "stdout",
     "output_type": "stream",
     "text": [
      "('flights',)\n",
      "('airports',)\n",
      "('cancellations',)\n"
     ]
    }
   ],
   "source": [
    "for sample in results:\n",
    "    print(sample)\n",
    "    "
   ]
  },
  {
   "cell_type": "code",
   "execution_count": 12,
   "metadata": {},
   "outputs": [],
   "source": [
    "connection.commit()\n"
   ]
  }
 ],
 "metadata": {
  "kernelspec": {
   "display_name": "Python 3",
   "language": "python",
   "name": "python3"
  },
  "language_info": {
   "codemirror_mode": {
    "name": "ipython",
    "version": 3
   },
   "file_extension": ".py",
   "mimetype": "text/x-python",
   "name": "python",
   "nbconvert_exporter": "python",
   "pygments_lexer": "ipython3",
   "version": "3.7.4"
  }
 },
 "nbformat": 4,
 "nbformat_minor": 2
}
