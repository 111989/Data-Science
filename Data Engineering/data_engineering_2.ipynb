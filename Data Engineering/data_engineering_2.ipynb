{
 "cells": [
  {
   "cell_type": "code",
   "execution_count": 1,
   "metadata": {},
   "outputs": [],
   "source": [
    "import sqlite3, csv\n"
   ]
  },
  {
   "cell_type": "code",
   "execution_count": 2,
   "metadata": {},
   "outputs": [],
   "source": [
    "connection = sqlite3.connect(\"air.db\")\n",
    "cursor = connection.cursor()\n"
   ]
  },
  {
   "cell_type": "code",
   "execution_count": 3,
   "metadata": {},
   "outputs": [
    {
     "data": {
      "text/plain": [
       "<sqlite3.Cursor at 0x28c6e629730>"
      ]
     },
     "execution_count": 3,
     "metadata": {},
     "output_type": "execute_result"
    }
   ],
   "source": [
    "cursor.execute(\"DELETE FROM flights WHERE YEAR = '2020';\")\n",
    "\n",
    "cursor.execute(\"INSERT INTO flights VALUES(?,?,?,?,?,?,?,?,?,?,?,?,?,?,?,?,?,?,?,?,?,?,?,?,?,?);\", \\\n",
    "               (2020,1,1,6,'','','','','','','','','','','','','','','','','','','','','',''))\n",
    "cursor.execute(\"INSERT INTO flights VALUES(?,?,?,?,?,?,?,?,?,?,?,?,?,?,?,?,?,?,?,?,?,?,?,?,?,?);\", \\\n",
    "               (2020,1,1,6,'','','','','','','','','','','','','','','','','','','','','',''))\n",
    "cursor.execute(\"INSERT INTO flights VALUES(?,?,?,?,?,?,?,?,?,?,?,?,?,?,?,?,?,?,?,?,?,?,?,?,?,?);\", \\\n",
    "               (2020,1,2,7,'','','','','','','','','','','','','','','','','','','','','',''))\n",
    "cursor.execute(\"INSERT INTO flights VALUES(?,?,?,?,?,?,?,?,?,?,?,?,?,?,?,?,?,?,?,?,?,?,?,?,?,?);\", \\\n",
    "               (2020,1,1,6,'','','','','','','','','','','','','','','','','','','','','',''))\n",
    "cursor.execute(\"INSERT INTO flights VALUES(?,?,?,?,?,?,?,?,?,?,?,?,?,?,?,?,?,?,?,?,?,?,?,?,?,?);\", \\\n",
    "               (2020,1,2,7,'','','','','','','','','','','','','','','','','','','','','',''))\n",
    "cursor.execute(\"INSERT INTO flights VALUES(?,?,?,?,?,?,?,?,?,?,?,?,?,?,?,?,?,?,?,?,?,?,?,?,?,?);\", \\\n",
    "               (2020,1,2,7,'TP','','','','','','','','','','','','','','','','','','','','',''))\n"
   ]
  },
  {
   "cell_type": "code",
   "execution_count": 4,
   "metadata": {},
   "outputs": [
    {
     "name": "stdout",
     "output_type": "stream",
     "text": [
      "(2020, 1, 1, 6, '', '', '', '', '', '', '', '', '', '', '', '', '', '', '', '', '', '', '', '', '', '')\n",
      "(2020, 1, 1, 6, '', '', '', '', '', '', '', '', '', '', '', '', '', '', '', '', '', '', '', '', '', '')\n",
      "(2020, 1, 2, 7, '', '', '', '', '', '', '', '', '', '', '', '', '', '', '', '', '', '', '', '', '', '')\n",
      "(2020, 1, 1, 6, '', '', '', '', '', '', '', '', '', '', '', '', '', '', '', '', '', '', '', '', '', '')\n",
      "(2020, 1, 2, 7, '', '', '', '', '', '', '', '', '', '', '', '', '', '', '', '', '', '', '', '', '', '')\n",
      "(2020, 1, 2, 7, 'TP', '', '', '', '', '', '', '', '', '', '', '', '', '', '', '', '', '', '', '', '', '')\n"
     ]
    }
   ],
   "source": [
    "results = cursor.execute(\"SELECT * FROM flights WHERE YEAR = '2020';\").fetchall() \n",
    "for sample in results:\n",
    "    print(sample)\n"
   ]
  },
  {
   "cell_type": "code",
   "execution_count": 5,
   "metadata": {},
   "outputs": [
    {
     "ename": "OperationalError",
     "evalue": "no such table: airlines",
     "output_type": "error",
     "traceback": [
      "\u001b[1;31m---------------------------------------------------------------------------\u001b[0m",
      "\u001b[1;31mOperationalError\u001b[0m                          Traceback (most recent call last)",
      "\u001b[1;32m<ipython-input-5-107bd2212b52>\u001b[0m in \u001b[0;36m<module>\u001b[1;34m\u001b[0m\n\u001b[0;32m     49\u001b[0m airports.AIRPORT_ID) INNER JOIN cancellations ON flights.CANCELLATION_CODE = \\\n\u001b[0;32m     50\u001b[0m cancellations.CODE) WHERE airports.FULL_AIRPORT_ID = 'New York, NY: LaGuardia' \\\n\u001b[1;32m---> 51\u001b[1;33m AND cancellations.CODE_DESCRIPTION = 'Weather';\").fetchall()\n\u001b[0m\u001b[0;32m     52\u001b[0m \u001b[1;33m\u001b[0m\u001b[0m\n\u001b[0;32m     53\u001b[0m \u001b[1;33m\u001b[0m\u001b[0m\n",
      "\u001b[1;31mOperationalError\u001b[0m: no such table: airlines"
     ]
    }
   ],
   "source": [
    "\"\"\"Update the OP_UNIQUE_CARRIER of the table flights to be 'CS' for YEAR = \\\n",
    "2020. The print all flights where YEAR = 2020 (make sure commit() is used)\"\"\"\n",
    "\n",
    "cursor.execute(\"UPDATE flights SET OP_UNIQUE_CARRIER = 'CS' WHERE YEAR = \\\n",
    "'2020';\")\n",
    "results = cursor.execute(\"SELECT * FROM flights WHERE YEAR = '2020';\").fetchall()\n",
    "\n",
    "\n",
    "    \n",
    "\"\"\"Delete the flight that has the OP_UNIQUE_CARRIER of 'CS'. Then print all \\\n",
    "flights where YEAR = 2020\"\"\"\n",
    "\n",
    "cursor.execute(\"DELETE FROM flights WHERE OP_UNIQUE_CARRIER = 'CS';\")\n",
    "results = cursor.execute(\"SELECT * FROM flights WHERE YEAR = '2020';\").fetchall()\n",
    "\n",
    "\n",
    "\n",
    "\"\"\"Select the OP_CARRIER_FL_NUM, ORIGIN_AIRPORT_ID, airports.FULL_AIRPORT_ID, \\\n",
    "and DISTANCE of flights that have trips with more than 4000 miles, tables = \\\n",
    "flights + airports, columns to join = ORIGIN_AIRPORT_ID, AIRPORT_ID, columns \\\n",
    "to match = DISTANCE. Use an INNER JOIN. To only get the unique names, use the \\\n",
    "keyword DISTINCT (i.e., SELECT DISTINCT name.)\"\"\"\n",
    "\n",
    "results = cursor.execute(\"SELECT DISTINCT flights.OP_CARRIER_FL_NUM, \\\n",
    "flights.ORIGIN_AIRPORT_ID, airports.FULL_AIRPORT_ID, flights.DISTANCE FROM \\\n",
    "(flights INNER JOIN airports ON flights.ORIGIN_AIRPORT_ID = \\\n",
    "airports.AIRPORT_ID) WHERE flights.DISTANCE > 4000 ORDER BY \\\n",
    "flights.ORIGIN_AIRPORT_ID ASC;\").fetchall()\n",
    "\n",
    "\n",
    "\n",
    "\"\"\"Select all DISTINCT airport names (FULL_AIRPORT_ID) from the database \\\n",
    "where the airline \"Delta Air Lines Inc.\" has as an Origin Airport \\\n",
    "(ORIGIN_AIRPORT_ID).\"\"\"\n",
    "\n",
    "results = cursor.execute(\"SELECT DISTINCT airports.FULL_AIRPORT_ID FROM \\\n",
    "(airports INNER JOIN flights ON airports.AIRPORT_ID = \\\n",
    "flights.ORIGIN_AIRPORT_ID) WHERE flights.OP_UNIQUE_CARRIER='DL';\").fetchall()\n",
    "\n",
    "\n",
    "\n",
    "\"\"\"Select all DISTINCT carrier names (FULL_OP_UNIQUE_CARRIER) from the \\\n",
    "database, where flights in originating from \"New York, NY: LaGuardia\" were \\\n",
    "cancelled due to \"Weather\".\"\"\"\n",
    "\n",
    "results = cursor.execute(\"SELECT DISTINCT airlines.FULL_OP_UNIQUE_CARRIER \\\n",
    "FROM (((airlines INNER JOIN flights ON airlines.OP_UNIQUE_CARRIER = \\\n",
    "flights.OP_UNIQUE_CARRIER) INNER JOIN airports ON flights.ORIGIN_AIRPORT_ID = \\\n",
    "airports.AIRPORT_ID) INNER JOIN cancellations ON flights.CANCELLATION_CODE = \\\n",
    "cancellations.CODE) WHERE airports.FULL_AIRPORT_ID = 'New York, NY: LaGuardia' \\\n",
    "AND cancellations.CODE_DESCRIPTION = 'Weather';\").fetchall()\n",
    "\n",
    "\n",
    "\n",
    "\"\"\"Drop the airlines table from the database. Print the names of all the \\\n",
    "remaining tables in the database\"\"\"\n",
    "\n",
    "cursor.execute(\"DROP TABLE IF EXISTS airlines;\")\n",
    "results = cursor.execute(\"SELECT name FROM sqlite_master WHERE type = 'table';\").fetchall()\n"
   ]
  },
  {
   "cell_type": "code",
   "execution_count": null,
   "metadata": {},
   "outputs": [],
   "source": [
    "for sample in results:\n",
    "    print(sample)\n",
    "    "
   ]
  },
  {
   "cell_type": "code",
   "execution_count": null,
   "metadata": {},
   "outputs": [],
   "source": [
    "connection.commit()\n"
   ]
  }
 ],
 "metadata": {
  "kernelspec": {
   "display_name": "Python 3",
   "language": "python",
   "name": "python3"
  },
  "language_info": {
   "codemirror_mode": {
    "name": "ipython",
    "version": 3
   },
   "file_extension": ".py",
   "mimetype": "text/x-python",
   "name": "python",
   "nbconvert_exporter": "python",
   "pygments_lexer": "ipython3",
   "version": "3.7.4"
  }
 },
 "nbformat": 4,
 "nbformat_minor": 2
}
